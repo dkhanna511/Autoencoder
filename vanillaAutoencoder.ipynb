{
 "cells": [
  {
   "cell_type": "code",
   "execution_count": 1,
   "metadata": {},
   "outputs": [],
   "source": [
    "import tensorflow as tf\n",
    "import numpy as np\n",
    "import matplotlib.pyplot as plt"
   ]
  },
  {
   "cell_type": "code",
   "execution_count": 2,
   "metadata": {},
   "outputs": [],
   "source": [
    "from tensorflow.examples.tutorials.mnist import input_data"
   ]
  },
  {
   "cell_type": "code",
   "execution_count": 3,
   "metadata": {},
   "outputs": [
    {
     "name": "stdout",
     "output_type": "stream",
     "text": [
      "WARNING:tensorflow:From <ipython-input-3-fc984f7e3757>:1: read_data_sets (from tensorflow.contrib.learn.python.learn.datasets.mnist) is deprecated and will be removed in a future version.\n",
      "Instructions for updating:\n",
      "Please use alternatives such as official/mnist/dataset.py from tensorflow/models.\n",
      "WARNING:tensorflow:From /home/dheeraj/.local/lib/python3.5/site-packages/tensorflow/contrib/learn/python/learn/datasets/mnist.py:260: maybe_download (from tensorflow.contrib.learn.python.learn.datasets.base) is deprecated and will be removed in a future version.\n",
      "Instructions for updating:\n",
      "Please write your own downloading logic.\n",
      "WARNING:tensorflow:From /home/dheeraj/.local/lib/python3.5/site-packages/tensorflow/contrib/learn/python/learn/datasets/mnist.py:262: extract_images (from tensorflow.contrib.learn.python.learn.datasets.mnist) is deprecated and will be removed in a future version.\n",
      "Instructions for updating:\n",
      "Please use tf.data to implement this functionality.\n",
      "Extracting MNIST_data/train-images-idx3-ubyte.gz\n",
      "WARNING:tensorflow:From /home/dheeraj/.local/lib/python3.5/site-packages/tensorflow/contrib/learn/python/learn/datasets/mnist.py:267: extract_labels (from tensorflow.contrib.learn.python.learn.datasets.mnist) is deprecated and will be removed in a future version.\n",
      "Instructions for updating:\n",
      "Please use tf.data to implement this functionality.\n",
      "Extracting MNIST_data/train-labels-idx1-ubyte.gz\n",
      "Extracting MNIST_data/t10k-images-idx3-ubyte.gz\n",
      "Extracting MNIST_data/t10k-labels-idx1-ubyte.gz\n",
      "WARNING:tensorflow:From /home/dheeraj/.local/lib/python3.5/site-packages/tensorflow/contrib/learn/python/learn/datasets/mnist.py:290: DataSet.__init__ (from tensorflow.contrib.learn.python.learn.datasets.mnist) is deprecated and will be removed in a future version.\n",
      "Instructions for updating:\n",
      "Please use alternatives such as official/mnist/dataset.py from tensorflow/models.\n"
     ]
    }
   ],
   "source": [
    "mnist=input_data.read_data_sets(\"MNIST_data/\")"
   ]
  },
  {
   "cell_type": "code",
   "execution_count": 4,
   "metadata": {},
   "outputs": [],
   "source": [
    "trX, trY, teX, teY=mnist.train.images, mnist.train.labels, mnist.test.images, mnist.test.labels"
   ]
  },
  {
   "cell_type": "code",
   "execution_count": 8,
   "metadata": {},
   "outputs": [],
   "source": [
    "class AutoEncoder(object):\n",
    "    def __init__(self, m, n, eta=0.01):\n",
    "        \n",
    "        \n",
    "        #m = number if neurons in input_output_layer\n",
    "        #n = number of neurons in hidden layer\n",
    "\n",
    "        self._m= m\n",
    "        self._n= n\n",
    "        self.learning_rate=eta\n",
    "        \n",
    "        #Create the Computational graph\n",
    "        \n",
    "        #weights and biases\n",
    "        \n",
    "        self._w1=tf.Variable(tf.random_normal(shape=(self._m, self._n)))\n",
    "        self._w2=tf.Variable(tf.random_normal(shape=(self._n, self._m)))\n",
    "        \n",
    "        self._b1=tf.Variable(np.zeros(self._n).astype(np.float32))  \n",
    "        self._b2=tf.Variable(np.zeros(self._m).astype(np.float32))\n",
    "        \n",
    "        \n",
    "        \n",
    "        #placeholder for inputs\n",
    "        self._X=tf.placeholder('float', [None, self._m])\n",
    "        \n",
    "        self.y=self.encoder(self._X)\n",
    "        self.r=self.decoder(self.y)\n",
    "        \n",
    "        error=self._X - self.r\n",
    "        \n",
    "        self._loss=tf.reduce_mean(tf.pow(error, 2))\n",
    "        self._opt=tf.train.AdamOptimizer(self.learning_rate).minimize(self._loss)\n",
    "        \n",
    "         \n",
    "    def encoder(self, x):\n",
    "        h=tf.matmul(x, self._w1)+self._b1\n",
    "        return tf.nn.sigmoid(h)\n",
    "\n",
    "    def decoder(self, x):\n",
    "        h=tf.matmul(x, self._w2)+self._b2\n",
    "        return tf.nn.sigmoid(h)\n",
    "\n",
    "\n",
    "    def set_session(self, session):\n",
    "        self.session = session\n",
    "\n",
    "    def reduced_dimension(self, x):\n",
    "        h=self.encoder(x)\n",
    "        return self.session.run(h, feed_dict={self._X: x})\n",
    "\n",
    "    def reconstruct(self, x):\n",
    "        h=self.encoder(x)\n",
    "        r=self.decoder(h)\n",
    "        return self.session.run(r, feed_dict={self._X: x})\n",
    "\n",
    "    def fit(self, X, epochs=1, batch_size=100):\n",
    "        N, D=X.shape\n",
    "        num_batches=N//batch_size\n",
    "\n",
    "        obj=[]\n",
    "        for i in range(epochs):\n",
    "            #X= shuffle(X)\n",
    "            for j in range(num_batches):\n",
    "                batch=X[j*num_batches: (j*batch_size+batch_size)]\n",
    "                _, ob=self.session.run([self._opt, self._loss], feed_dict={self._X : batch})\n",
    "                if j%100 ==0 and i%100 ==0:\n",
    "                    print('training epoch {0} batch {2} cost {1}'.format(i, ob, j))\n",
    "                obj.append(ob)\n",
    "        return obj\n",
    "\n",
    "\n",
    "    \n",
    "\n",
    "\n",
    "\n"
   ]
  },
  {
   "cell_type": "code",
   "execution_count": 9,
   "metadata": {},
   "outputs": [
    {
     "name": "stdout",
     "output_type": "stream",
     "text": [
      "55000\n",
      "training epoch 0 batch 0 cost 0.4528217613697052\n",
      "training epoch 0 batch 100 cost nan\n",
      "training epoch 0 batch 200 cost nan\n",
      "training epoch 0 batch 300 cost nan\n",
      "training epoch 0 batch 400 cost nan\n",
      "training epoch 0 batch 500 cost nan\n"
     ]
    }
   ],
   "source": [
    "Xtrain=trX.astype(np.float32)\n",
    "Xtest= teX.astype(np.float32)\n",
    "_, m= Xtrain.shape\n",
    "#print(m)\n",
    "print(_)\n",
    "\n",
    "autoEncoder=AutoEncoder(m , 256)\n",
    "\n",
    "#initialise all variables\n",
    "\n",
    "init=tf.global_variables_initializer()\n",
    "with tf.Session() as sess:\n",
    "    sess.run(init)\n",
    "    autoEncoder.set_session(sess)\n",
    "    err=autoEncoder.fit(Xtrain, epochs=10)\n",
    "    out=autoEncoder.reconstruct(Xtest[0:100])\n",
    "    "
   ]
  },
  {
   "cell_type": "code",
   "execution_count": 13,
   "metadata": {},
   "outputs": [
    {
     "data": {
      "text/plain": [
       "Text(0, 0.5, 'cost')"
      ]
     },
     "execution_count": 13,
     "metadata": {},
     "output_type": "execute_result"
    },
    {
     "data": {
      "image/png": "[encoded data removed]",
      "text/plain": [
       "<Figure size 432x288 with 1 Axes>"
      ]
     },
     "metadata": {
      "needs_background": "light"
     },
     "output_type": "display_data"
    }
   ],
   "source": [
    "plt.plot(err)\n",
    "plt.xlabel('epochs')\n",
    "plt.ylabel('cost')"
   ]
  },
  {
   "cell_type": "code",
   "execution_count": 14,
   "metadata": {},
   "outputs": [
    {
     "data": {
      "image/png": "[encoded data removed]",
      "text/plain": [
       "<Figure size 1440x288 with 16 Axes>"
      ]
     },
     "metadata": {
      "needs_background": "light"
     },
     "output_type": "display_data"
    }
   ],
   "source": [
    "#plotting original and reconstucted images\n",
    "row, col=2,8\n",
    "\n",
    "idx=np.random.randint(0, 100, row*col//2)\n",
    "x, axarr= plt.subplots(row, col, sharex=True, sharey=True, figsize=(20,4))\n",
    "\n",
    "for fig, row in zip([Xtest, out], axarr):\n",
    "    for i, ax in zip(idx, row):\n",
    "        ax.imshow(fig[i].reshape((28, 28)))\n",
    "        ax.get_xaxis().set_visible(False)\n",
    "        ax.get_yaxis().set_visible(False)"
   ]
  },
  {
   "cell_type": "code",
   "execution_count": null,
   "metadata": {},
   "outputs": [],
   "source": []
  }
 ],
 "metadata": {
  "kernelspec": {
   "display_name": "Python 3",
   "language": "python",
   "name": "python3"
  },
  "language_info": {
   "codemirror_mode": {
    "name": "ipython",
    "version": 3
   },
   "file_extension": ".py",
   "mimetype": "text/x-python",
   "name": "python",
   "nbconvert_exporter": "python",
   "pygments_lexer": "ipython3",
   "version": "3.5.2"
  }
 },
 "nbformat": 4,
 "nbformat_minor": 2
}
