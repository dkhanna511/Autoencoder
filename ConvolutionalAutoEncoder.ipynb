{
 "cells": [
  {
   "cell_type": "code",
   "execution_count": 2,
   "metadata": {},
   "outputs": [],
   "source": [
    "import tensorflow as tf\n",
    "import numpy as np\n",
    "import matplotlib.pyplot as plt\n",
    "%matplotlib inline"
   ]
  },
  {
   "cell_type": "code",
   "execution_count": 3,
   "metadata": {},
   "outputs": [],
   "source": [
    "from tensorflow.examples.tutorials. mnist import input_data"
   ]
  },
  {
   "cell_type": "code",
   "execution_count": 16,
   "metadata": {},
   "outputs": [
    {
     "name": "stdout",
     "output_type": "stream",
     "text": [
      "Extracting MNIST_data/train-images-idx3-ubyte.gz\n",
      "Extracting MNIST_data/train-labels-idx1-ubyte.gz\n",
      "Extracting MNIST_data/t10k-images-idx3-ubyte.gz\n",
      "Extracting MNIST_data/t10k-labels-idx1-ubyte.gz\n"
     ]
    }
   ],
   "source": [
    "mnist=input_data.read_data_sets(\"MNIST_data/\")\n",
    "trX, trY, teX, teY= mnist.train.images, mnist.train.labels, mnist.test.images, mnist.test.labels"
   ]
  },
  {
   "cell_type": "code",
   "execution_count": 20,
   "metadata": {},
   "outputs": [],
   "source": [
    "h_in, w_in = 28, 28   #image size height and width\n",
    "k=3    #kernel size\n",
    "p=2    # pool\n",
    "s=2    # strides in maxpool\n",
    "filters = {1:32, 2:32, 3: 16}\n",
    "\n",
    "activation_fn= tf.nn.relu\n",
    "\n",
    "#height and width for second encoder/ decoder\n",
    "h_l2, w_l2 = int(np.ceil(float(h_in) / float(s))), int(np.ceil(float(w_in) / float(s)))\n",
    "\n",
    "#height and width  for third encoder / decoder\n",
    "h_l3, w_l3 = int(np.ceil(float(h_l2) / float(s))), int(np.ceil(float(w_l2) / float(s)))\n",
    "\n",
    "\n"
   ]
  },
  {
   "cell_type": "code",
   "execution_count": 21,
   "metadata": {},
   "outputs": [],
   "source": [
    "x_noisy = tf.placeholder(tf.float32, (None, h_in, w_in, 1), name = 'inputs')\n",
    "X= tf.placeholder(tf.float32, (None, h_in, w_in, 1), name = 'targets')\n"
   ]
  },
  {
   "cell_type": "code",
   "execution_count": 36,
   "metadata": {},
   "outputs": [
    {
     "name": "stdout",
     "output_type": "stream",
     "text": [
      "(?, 28, 28, 32)\n",
      "(?, 14, 14, 32)\n",
      "(?, 14, 14, 32)\n",
      "(?, 7, 7, 32)\n",
      "(?, 4, 4, 16)\n",
      "(?, 7, 7, 16)\n",
      "(?, 7, 7, 16)\n",
      "(?, 14, 14, 16)\n",
      "(?, 14, 14, 32)\n"
     ]
    }
   ],
   "source": [
    "# Build the encoder amd decoder networks\n",
    "### Encoder \n",
    "conv1 = tf.layers.conv2d(x_noisy, filters[1], \n",
    "                         (k,k), padding = 'same',\n",
    "                         activation=activation_fn)\n",
    "\n",
    "print(np.shape(conv1))\n",
    "#output size h_in * w_in * filters[1]\n",
    "maxpool1= tf.layers.max_pooling2d(conv1, (p,p), (s,s), \n",
    "                           padding='same')\n",
    "\n",
    "\n",
    "print(np.shape(maxpool1))\n",
    "#output size h_l2 * w_l2 * filters[2]\n",
    "conv2 = tf.layers.conv2d(maxpool1, filters[2], \n",
    "                        (k,k), padding= 'same', \n",
    "                        activation = activation_fn)\n",
    "\n",
    "print(np.shape(conv2))\n",
    "maxpool2 = tf.layers.max_pooling2d(conv2, (p,p), (s,s), \n",
    "                              padding= 'same')\n",
    "\n",
    "#output size h_l3 * w_l3 * filters[3]\n",
    "print(np.shape(maxpool2))\n",
    "conv3 = tf.layers.conv2d(maxpool2, filters[3], \n",
    "                         (k,k), padding = 'same',\n",
    "                         activation= activation_fn)\n",
    "\n",
    "# now 4 * 4 * 16\n",
    "encoded = tf.layers.max_pooling2d(conv3, (p,p), (s,s),\n",
    "                              padding  = 'same')\n",
    "\n",
    "print(np.shape(encoded))\n",
    "### Decoder\n",
    "\n",
    "upsample1 = tf.image.resize_nearest_neighbor(encoded, (h_l3, w_l3))\n",
    "print(np.shape(upsample1))\n",
    "    \n",
    "    #output size h_l3 * w_l3 * filters[3]\n",
    "    \n",
    "    \n",
    "conv4= tf.layers.conv2d(upsample1, filters[3],\n",
    "                        (k,k), padding = 'same', \n",
    "                        activation = activation_fn)\n",
    "\n",
    "\n",
    "print(np.shape(conv4))\n",
    "\n",
    "upsample2 = tf.image.resize_nearest_neighbor(conv4,(h_l2, w_l2))\n",
    "\n",
    "print(np.shape(upsample2))\n",
    "\n",
    "#output size h_l2 * w_l2 * filters[2]\n",
    "\n",
    "conv5= tf.layers.conv2d(upsample2, filters[2],\n",
    "                        (k,k), padding = 'same', \n",
    "                        activation = activation_fn)\n",
    "\n",
    "print(np.shape(conv5))\n",
    "\n",
    "upsample3 = tf.image.resize_nearest_neighbor(conv5,(h_in, w_in))\n",
    "\n",
    "\n",
    "#output size h_in * w_in * filters[2]\n",
    "\n",
    "\n",
    "conv6= tf.layers.conv2d(upsample3, filters[1],\n",
    "                        (k,k), padding = 'same', \n",
    "                        activation = activation_fn)\n",
    "\n",
    "#output size h_in * w_in * filters[1]\n",
    "\n",
    "logits = tf.layers.conv2d(conv6, 1,\n",
    "                          (k,k), padding = 'same',\n",
    "                          activation = None)\n",
    "\n",
    "#output size h_in * w_in * 1\n",
    "\n",
    "decoded = tf.nn.sigmoid(logits, name = 'decoded')\n",
    "\n",
    "loss = tf.nn.sigmoid_cross_entropy_with_logits(labels = X, logits = logits)\n",
    "cost = tf.reduce_mean(loss)\n",
    "opt= tf.train.AdamOptimizer(0.001).minimize(cost)\n",
    "\n",
    "\n",
    "\n"
   ]
  },
  {
   "cell_type": "code",
   "execution_count": 41,
   "metadata": {},
   "outputs": [
    {
     "name": "stdout",
     "output_type": "stream",
     "text": [
      "Epochs 0/ 10 ... Training loss 0.6882572174072266\n",
      "Epochs 0/ 10 ... Training loss 0.22271628677845\n",
      "Epochs 0/ 10 ... Training loss 0.18984921276569366\n",
      "Epochs 0/ 10 ... Training loss 0.17915795743465424\n",
      "Epochs 0/ 10 ... Training loss 0.1680791825056076\n",
      "Epochs 0/ 10 ... Training loss 0.15756572782993317\n",
      "Epochs 1/ 10 ... Training loss 0.15571585297584534\n",
      "Epochs 1/ 10 ... Training loss 0.143027201294899\n",
      "Epochs 1/ 10 ... Training loss 0.1442839652299881\n",
      "Epochs 1/ 10 ... Training loss 0.14012525975704193\n",
      "Epochs 1/ 10 ... Training loss 0.13768638670444489\n",
      "Epochs 1/ 10 ... Training loss 0.1334240883588791\n",
      "Epochs 2/ 10 ... Training loss 0.13463379442691803\n",
      "Epochs 2/ 10 ... Training loss 0.13591083884239197\n",
      "Epochs 2/ 10 ... Training loss 0.1377168744802475\n",
      "Epochs 2/ 10 ... Training loss 0.13509385287761688\n",
      "Epochs 2/ 10 ... Training loss 0.13395032286643982\n",
      "Epochs 2/ 10 ... Training loss 0.13347020745277405\n",
      "Epochs 3/ 10 ... Training loss 0.12656033039093018\n",
      "Epochs 3/ 10 ... Training loss 0.12793217599391937\n",
      "Epochs 3/ 10 ... Training loss 0.12473682314157486\n",
      "Epochs 3/ 10 ... Training loss 0.12538620829582214\n",
      "Epochs 3/ 10 ... Training loss 0.12643268704414368\n",
      "Epochs 3/ 10 ... Training loss 0.11416904628276825\n",
      "Epochs 4/ 10 ... Training loss 0.11824971437454224\n",
      "Epochs 4/ 10 ... Training loss 0.12311068922281265\n",
      "Epochs 4/ 10 ... Training loss 0.12511588633060455\n",
      "Epochs 4/ 10 ... Training loss 0.12143480032682419\n",
      "Epochs 4/ 10 ... Training loss 0.1157865822315216\n",
      "Epochs 4/ 10 ... Training loss 0.12004028260707855\n",
      "Epochs 5/ 10 ... Training loss 0.11742839962244034\n",
      "Epochs 5/ 10 ... Training loss 0.11976037174463272\n",
      "Epochs 5/ 10 ... Training loss 0.11464475095272064\n",
      "Epochs 5/ 10 ... Training loss 0.11564653366804123\n",
      "Epochs 5/ 10 ... Training loss 0.1131155863404274\n",
      "Epochs 5/ 10 ... Training loss 0.11650100350379944\n",
      "Epochs 6/ 10 ... Training loss 0.11638425290584564\n",
      "Epochs 6/ 10 ... Training loss 0.11613307148218155\n",
      "Epochs 6/ 10 ... Training loss 0.1160421296954155\n",
      "Epochs 6/ 10 ... Training loss 0.11301936209201813\n",
      "Epochs 6/ 10 ... Training loss 0.11598224192857742\n",
      "Epochs 6/ 10 ... Training loss 0.11519563943147659\n",
      "Epochs 7/ 10 ... Training loss 0.1075635626912117\n",
      "Epochs 7/ 10 ... Training loss 0.11665873974561691\n",
      "Epochs 7/ 10 ... Training loss 0.10812772810459137\n",
      "Epochs 7/ 10 ... Training loss 0.11371694505214691\n",
      "Epochs 7/ 10 ... Training loss 0.11102469265460968\n",
      "Epochs 7/ 10 ... Training loss 0.1093742772936821\n",
      "Epochs 8/ 10 ... Training loss 0.11727095395326614\n",
      "Epochs 8/ 10 ... Training loss 0.11012750118970871\n",
      "Epochs 8/ 10 ... Training loss 0.11228492856025696\n",
      "Epochs 8/ 10 ... Training loss 0.10608197748661041\n",
      "Epochs 8/ 10 ... Training loss 0.11351960897445679\n",
      "Epochs 8/ 10 ... Training loss 0.10850875824689865\n",
      "Epochs 9/ 10 ... Training loss 0.11557171493768692\n",
      "Epochs 9/ 10 ... Training loss 0.11116398870944977\n",
      "Epochs 9/ 10 ... Training loss 0.10884516686201096\n",
      "Epochs 9/ 10 ... Training loss 0.11302477866411209\n",
      "Epochs 9/ 10 ... Training loss 0.11988044530153275\n",
      "Epochs 9/ 10 ... Training loss 0.10976111888885498\n"
     ]
    }
   ],
   "source": [
    "epochs = 10\n",
    "batch_size = 100\n",
    "# Set how much noise we're adding to the MNIST images\n",
    "noise_factor = 0.5\n",
    "sess = tf.Session()\n",
    "\n",
    "sess.run(tf.global_variables_initializer())\n",
    "err= []\n",
    "for i in range(epochs):\n",
    "    for ii in range(mnist.train.num_examples//batch_size):\n",
    "        batch = mnist.train.next_batch(batch_size) \n",
    "        # Get images from the batch\n",
    "        \n",
    "        imgs= batch[0].reshape((-1, h_in, w_in, 1))\n",
    "        \n",
    "        #Add random noise to the input images\n",
    "        \n",
    "        noisy_imgs = imgs + noise_factor*np.random.randn(*imgs.shape)\n",
    "        #Clip the images to be between 0 and 1\n",
    "        noisy_imgs = np.clip(noisy_imgs, 0. , 1.)\n",
    "        \n",
    "        # Noisy images as inputs, original images as targets\n",
    "        batch_cost, _ = sess.run([cost, opt], feed_dict= {x_noisy: noisy_imgs, X: imgs})\n",
    "        \n",
    "        err.append(batch_cost)\n",
    "        \n",
    "        if ii % 100 == 0:\n",
    "            print(\"Epochs {0}/ {1} ... Training loss {2}\".format(i, epochs, batch_cost))"
   ]
  },
  {
   "cell_type": "code",
   "execution_count": 42,
   "metadata": {},
   "outputs": [
    {
     "data": {
      "text/plain": [
       "Text(0, 0.5, 'cross entropy loss')"
      ]
     },
     "execution_count": 42,
     "metadata": {},
     "output_type": "execute_result"
    },
    {
     "data": {
      "image/png": "[encoded data removed]",
      "text/plain": [
       "<Figure size 432x288 with 1 Axes>"
      ]
     },
     "metadata": {
      "needs_background": "light"
     },
     "output_type": "display_data"
    }
   ],
   "source": [
    "import matplotlib.pyplot as plt\n",
    "plt.plot(err)\n",
    "plt.xlabel('epochs')\n",
    "plt.ylabel('cross entropy loss')"
   ]
  },
  {
   "cell_type": "code",
   "execution_count": null,
   "metadata": {},
   "outputs": [],
   "source": [
    "figs, axes = plt.subplots(nrows=2, ncols=10, sharex = True, sharey=True, figsize = (20,4))\n",
    "in_imgs = mnist.test.images[:10]\n",
    "\n",
    "noisy_imgs = in_imgs + noise_factor * np.random.randn(*in_imgs.shape)\n",
    "noisy_imgs = np.clip(noisy_imgs, 0., 1.)\n",
    "reconstructed = sess.run(decoded, feed_dict = {x_noisy:noisy_imgs.reshape((10,28,28,1))})\n",
    "for images, row in zip([noisy_imgs, reconstructed], axes):\n",
    "    for img, ax in zip(images, row):\n",
    "        ax.imshow(img.reshape((28,28)), cmap = 'Greys_r')\n",
    "        ax.get_xaxis().set_visible(False)\n",
    "        ax.get_yaxis().set_visible(False)"
   ]
  },
  {
   "cell_type": "code",
   "execution_count": null,
   "metadata": {},
   "outputs": [],
   "source": []
  },
  {
   "cell_type": "code",
   "execution_count": 6,
   "metadata": {},
   "outputs": [],
   "source": [
    "n_classes= 10\n",
    "batch_size= 100"
   ]
  },
  {
   "cell_type": "code",
   "execution_count": 7,
   "metadata": {},
   "outputs": [],
   "source": [
    "x=tf.placeholder(tf.float32, [None, 784], name= 'InputData')\n",
    "y=tf.placeholder(tf.float32, [None, 10], name= 'LabelData')\n"
   ]
  },
  {
   "cell_type": "code",
   "execution_count": 8,
   "metadata": {},
   "outputs": [],
   "source": [
    "def conv2d(input, name, kshape, strides= [1,1,1,1]):\n",
    "    with tf.name_scope(name):\n",
    "        W= tf.Variable(name = 'w_' + name,\n",
    "                          shape =kshape)"
   ]
  },
  {
   "cell_type": "code",
   "execution_count": 13,
   "metadata": {},
   "outputs": [],
   "source": [
    "tf.nn.conv2d_transpose?"
   ]
  },
  {
   "cell_type": "code",
   "execution_count": 14,
   "metadata": {},
   "outputs": [],
   "source": [
    "tf.nn.conv2d?"
   ]
  },
  {
   "cell_type": "code",
   "execution_count": 22,
   "metadata": {},
   "outputs": [],
   "source": [
    "tf.stack?\n",
    "tf.layers.conv2d?"
   ]
  }
 ],
 "metadata": {
  "kernelspec": {
   "display_name": "Python 3",
   "language": "python",
   "name": "python3"
  },
  "language_info": {
   "codemirror_mode": {
    "name": "ipython",
    "version": 3
   },
   "file_extension": ".py",
   "mimetype": "text/x-python",
   "name": "python",
   "nbconvert_exporter": "python",
   "pygments_lexer": "ipython3",
   "version": "3.5.2"
  }
 },
 "nbformat": 4,
 "nbformat_minor": 2
}
