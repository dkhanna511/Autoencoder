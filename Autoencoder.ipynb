{
 "cells": [
  {
   "cell_type": "code",
   "execution_count": 1,
   "metadata": {},
   "outputs": [
    {
     "name": "stderr",
     "output_type": "stream",
     "text": [
      "/home/dheeraj/.local/lib/python3.5/site-packages/tensorflow/python/framework/dtypes.py:523: FutureWarning: Passing (type, 1) or '1type' as a synonym of type is deprecated; in a future version of numpy, it will be understood as (type, (1,)) / '(1,)type'.\n",
      "  _np_qint8 = np.dtype([(\"qint8\", np.int8, 1)])\n",
      "/home/dheeraj/.local/lib/python3.5/site-packages/tensorflow/python/framework/dtypes.py:524: FutureWarning: Passing (type, 1) or '1type' as a synonym of type is deprecated; in a future version of numpy, it will be understood as (type, (1,)) / '(1,)type'.\n",
      "  _np_quint8 = np.dtype([(\"quint8\", np.uint8, 1)])\n",
      "/home/dheeraj/.local/lib/python3.5/site-packages/tensorflow/python/framework/dtypes.py:525: FutureWarning: Passing (type, 1) or '1type' as a synonym of type is deprecated; in a future version of numpy, it will be understood as (type, (1,)) / '(1,)type'.\n",
      "  _np_qint16 = np.dtype([(\"qint16\", np.int16, 1)])\n",
      "/home/dheeraj/.local/lib/python3.5/site-packages/tensorflow/python/framework/dtypes.py:526: FutureWarning: Passing (type, 1) or '1type' as a synonym of type is deprecated; in a future version of numpy, it will be understood as (type, (1,)) / '(1,)type'.\n",
      "  _np_quint16 = np.dtype([(\"quint16\", np.uint16, 1)])\n",
      "/home/dheeraj/.local/lib/python3.5/site-packages/tensorflow/python/framework/dtypes.py:527: FutureWarning: Passing (type, 1) or '1type' as a synonym of type is deprecated; in a future version of numpy, it will be understood as (type, (1,)) / '(1,)type'.\n",
      "  _np_qint32 = np.dtype([(\"qint32\", np.int32, 1)])\n",
      "/home/dheeraj/.local/lib/python3.5/site-packages/tensorflow/python/framework/dtypes.py:532: FutureWarning: Passing (type, 1) or '1type' as a synonym of type is deprecated; in a future version of numpy, it will be understood as (type, (1,)) / '(1,)type'.\n",
      "  np_resource = np.dtype([(\"resource\", np.ubyte, 1)])\n"
     ]
    }
   ],
   "source": [
    "import tensorflow as tf\n",
    "import numpy as np\n",
    "import matplotlib.pyplot as plt"
   ]
  },
  {
   "cell_type": "code",
   "execution_count": 2,
   "metadata": {},
   "outputs": [],
   "source": [
    "from tensorflow.examples.tutorials.mnist import input_data"
   ]
  },
  {
   "cell_type": "code",
   "execution_count": 3,
   "metadata": {},
   "outputs": [
    {
     "name": "stdout",
     "output_type": "stream",
     "text": [
      "WARNING:tensorflow:From <ipython-input-3-8fff32bca56b>:1: read_data_sets (from tensorflow.contrib.learn.python.learn.datasets.mnist) is deprecated and will be removed in a future version.\n",
      "Instructions for updating:\n",
      "Please use alternatives such as official/mnist/dataset.py from tensorflow/models.\n",
      "WARNING:tensorflow:From /home/dheeraj/.local/lib/python3.5/site-packages/tensorflow/contrib/learn/python/learn/datasets/mnist.py:260: maybe_download (from tensorflow.contrib.learn.python.learn.datasets.base) is deprecated and will be removed in a future version.\n",
      "Instructions for updating:\n",
      "Please write your own downloading logic.\n",
      "WARNING:tensorflow:From /home/dheeraj/.local/lib/python3.5/site-packages/tensorflow/contrib/learn/python/learn/datasets/mnist.py:262: extract_images (from tensorflow.contrib.learn.python.learn.datasets.mnist) is deprecated and will be removed in a future version.\n",
      "Instructions for updating:\n",
      "Please use tf.data to implement this functionality.\n",
      "Extracting MNIST_data/train-images-idx3-ubyte.gz\n",
      "WARNING:tensorflow:From /home/dheeraj/.local/lib/python3.5/site-packages/tensorflow/contrib/learn/python/learn/datasets/mnist.py:267: extract_labels (from tensorflow.contrib.learn.python.learn.datasets.mnist) is deprecated and will be removed in a future version.\n",
      "Instructions for updating:\n",
      "Please use tf.data to implement this functionality.\n",
      "Extracting MNIST_data/train-labels-idx1-ubyte.gz\n",
      "WARNING:tensorflow:From /home/dheeraj/.local/lib/python3.5/site-packages/tensorflow/contrib/learn/python/learn/datasets/mnist.py:110: dense_to_one_hot (from tensorflow.contrib.learn.python.learn.datasets.mnist) is deprecated and will be removed in a future version.\n",
      "Instructions for updating:\n",
      "Please use tf.one_hot on tensors.\n",
      "Extracting MNIST_data/t10k-images-idx3-ubyte.gz\n",
      "Extracting MNIST_data/t10k-labels-idx1-ubyte.gz\n",
      "WARNING:tensorflow:From /home/dheeraj/.local/lib/python3.5/site-packages/tensorflow/contrib/learn/python/learn/datasets/mnist.py:290: DataSet.__init__ (from tensorflow.contrib.learn.python.learn.datasets.mnist) is deprecated and will be removed in a future version.\n",
      "Instructions for updating:\n",
      "Please use alternatives such as official/mnist/dataset.py from tensorflow/models.\n"
     ]
    }
   ],
   "source": [
    "mnist=input_data.read_data_sets(\"MNIST_data/\", one_hot=True)"
   ]
  },
  {
   "cell_type": "code",
   "execution_count": 4,
   "metadata": {},
   "outputs": [],
   "source": [
    "learning_rate=0.01\n",
    "num_epoch=50\n",
    "batch_size=128\n",
    "examples= 20\n",
    "display_step=5"
   ]
  },
  {
   "cell_type": "code",
   "execution_count": 5,
   "metadata": {},
   "outputs": [],
   "source": [
    "num_inputs=784\n",
    "num_hidden1=256\n",
    "num_hidden2=128\n",
    "num_hidden3=num_hidden1\n",
    "num_output=num_inputs"
   ]
  },
  {
   "cell_type": "code",
   "execution_count": 6,
   "metadata": {},
   "outputs": [],
   "source": [
    "X=tf.placeholder(tf.float32, shape=[None, num_inputs])\n",
    "\n",
    "X=X/255.0"
   ]
  },
  {
   "cell_type": "code",
   "execution_count": 7,
   "metadata": {},
   "outputs": [],
   "source": [
    "weights={\n",
    "    'hid1':tf.Variable(tf.random_normal([num_inputs, num_hidden1])),\n",
    "    'hid2':tf.Variable(tf.random_normal([num_hidden1, num_hidden2])),\n",
    "    'hid3':tf.Variable(tf.random_normal([num_hidden2, num_hidden3])),\n",
    "    'out':tf.Variable(tf.random_normal([num_hidden3, num_output]))\n",
    "        }"
   ]
  },
  {
   "cell_type": "code",
   "execution_count": 8,
   "metadata": {},
   "outputs": [],
   "source": [
    "biases={\n",
    "    'hid1':tf.Variable(tf.random_normal([num_hidden1])),\n",
    "    'hid2':tf.Variable(tf.random_normal([num_hidden2])),\n",
    "    'hid3':tf.Variable(tf.random_normal([num_hidden3])),\n",
    "    'out':tf.Variable(tf.random_normal([num_output]))\n",
    "        }"
   ]
  },
  {
   "cell_type": "code",
   "execution_count": 9,
   "metadata": {},
   "outputs": [],
   "source": [
    "def encoder(x):\n",
    "    layer_1=tf.nn.relu(tf.add(tf.matmul(x, weights['hid1']), biases['hid1']))\n",
    "    layer_2=tf.nn.relu(tf.add(tf.matmul(layer_1, weights['hid2']), biases['hid2']))\n",
    "    \n",
    "    return layer_2"
   ]
  },
  {
   "cell_type": "code",
   "execution_count": 10,
   "metadata": {},
   "outputs": [],
   "source": [
    "def decoder(x):\n",
    "    layer_1=tf.nn.relu(tf.add(tf.matmul(x, weights['hid3']), biases['hid3']))\n",
    "    layer_2=tf.nn.relu(tf.add(tf.matmul(layer_1, weights['out']), biases['out']))\n",
    "    \n",
    "    return layer_2"
   ]
  },
  {
   "cell_type": "code",
   "execution_count": 25,
   "metadata": {},
   "outputs": [],
   "source": [
    "encoder_op=encoder(X)\n",
    "decoder_op=decoder(encoder_op)\n"
   ]
  },
  {
   "cell_type": "code",
   "execution_count": 12,
   "metadata": {},
   "outputs": [],
   "source": [
    "y_pred=decoder_op\n",
    "\n",
    "y_true=X\n",
    "\n"
   ]
  },
  {
   "cell_type": "code",
   "execution_count": 13,
   "metadata": {},
   "outputs": [],
   "source": [
    "loss=tf.reduce_mean(tf.square(y_pred- y_true))\n",
    "optimizer=tf.train.AdadeltaOptimizer(learning_rate).minimize(loss)\n",
    "\n"
   ]
  },
  {
   "cell_type": "code",
   "execution_count": 14,
   "metadata": {},
   "outputs": [],
   "source": [
    "init=tf.global_variables_initializer()"
   ]
  },
  {
   "cell_type": "code",
   "execution_count": 15,
   "metadata": {},
   "outputs": [],
   "source": [
    "saver=tf.train.Saver()"
   ]
  },
  {
   "cell_type": "code",
   "execution_count": 16,
   "metadata": {},
   "outputs": [
    {
     "name": "stdout",
     "output_type": "stream",
     "text": [
      "EPOCH: 0   LOSS: 31437884.0\n",
      "EPOCH: 1   LOSS: 26353392.0\n",
      "EPOCH: 2   LOSS: 22917374.0\n",
      "EPOCH: 3   LOSS: 19653172.0\n",
      "EPOCH: 4   LOSS: 15652315.0\n",
      "EPOCH: 5   LOSS: 13217319.0\n",
      "EPOCH: 6   LOSS: 11203150.0\n",
      "EPOCH: 7   LOSS: 9650395.0\n",
      "EPOCH: 8   LOSS: 7928288.0\n",
      "EPOCH: 9   LOSS: 6825532.0\n",
      "EPOCH: 10   LOSS: 5915900.5\n",
      "EPOCH: 11   LOSS: 5118460.5\n",
      "EPOCH: 12   LOSS: 4384875.0\n",
      "EPOCH: 13   LOSS: 3863049.75\n",
      "EPOCH: 14   LOSS: 3214202.75\n",
      "EPOCH: 15   LOSS: 2904167.25\n",
      "EPOCH: 16   LOSS: 2588180.5\n",
      "EPOCH: 17   LOSS: 2310134.0\n",
      "EPOCH: 18   LOSS: 2056112.375\n",
      "EPOCH: 19   LOSS: 1703201.625\n",
      "EPOCH: 20   LOSS: 1664346.75\n",
      "EPOCH: 21   LOSS: 1462398.5\n",
      "EPOCH: 22   LOSS: 1238883.0\n",
      "EPOCH: 23   LOSS: 1196220.625\n",
      "EPOCH: 24   LOSS: 1050051.875\n",
      "EPOCH: 25   LOSS: 1020104.1875\n",
      "EPOCH: 26   LOSS: 822202.875\n",
      "EPOCH: 27   LOSS: 743316.25\n",
      "EPOCH: 28   LOSS: 659040.1875\n",
      "EPOCH: 29   LOSS: 606435.5625\n"
     ]
    }
   ],
   "source": [
    "num_epochs=30\n",
    "batch_size=128\n",
    "\n",
    "with tf.Session() as sess:\n",
    "    sess.run(init)\n",
    "    \n",
    "    for epoch in range(num_epochs):\n",
    "        num_batches=mnist.train.num_examples //batch_size\n",
    "        \n",
    "        for iteration in range(num_batches):\n",
    "            \n",
    "            x_batch, y_batch=mnist.train.next_batch(batch_size)\n",
    "            \n",
    "            sess.run([optimizer, loss], feed_dict={X:x_batch})\n",
    "        training_loss = loss.eval(feed_dict={X:x_batch})\n",
    "        \n",
    "        \n",
    "        print(\"EPOCH: {}   LOSS: {}\".format(epoch, training_loss))\n",
    "        \n",
    "    saver.save(sess, './model_save_ae/stacked_autoencoder.ckpt')"
   ]
  },
  {
   "cell_type": "code",
   "execution_count": 18,
   "metadata": {},
   "outputs": [
    {
     "name": "stdout",
     "output_type": "stream",
     "text": [
      "INFO:tensorflow:Restoring parameters from ./model_save_ae/stacked_autoencoder.ckpt\n"
     ]
    }
   ],
   "source": [
    "\n",
    "with tf.Session() as sess: \n",
    "    \n",
    "    saver.restore(sess,  './model_save_ae/stacked_autoencoder.ckpt' )\n",
    "    \n",
    "    results=y_pred.eval(feed_dict={X:mnist.test.images[:examples]})"
   ]
  },
  {
   "cell_type": "code",
   "execution_count": 23,
   "metadata": {},
   "outputs": [
    {
     "name": "stdout",
     "output_type": "stream",
     "text": [
      "Figure(1440x288)\n",
      "[[<matplotlib.axes._subplots.AxesSubplot object at 0x7fc32a033d68>\n",
      "  <matplotlib.axes._subplots.AxesSubplot object at 0x7fc32a0811d0>\n",
      "  <matplotlib.axes._subplots.AxesSubplot object at 0x7fc3281ad278>\n",
      "  <matplotlib.axes._subplots.AxesSubplot object at 0x7fc329fb64a8>\n",
      "  <matplotlib.axes._subplots.AxesSubplot object at 0x7fc32a0c1c50>\n",
      "  <matplotlib.axes._subplots.AxesSubplot object at 0x7fc329f88a20>\n",
      "  <matplotlib.axes._subplots.AxesSubplot object at 0x7fc3227c17f0>\n",
      "  <matplotlib.axes._subplots.AxesSubplot object at 0x7fc3227fcf28>\n",
      "  <matplotlib.axes._subplots.AxesSubplot object at 0x7fc3227cf3c8>\n",
      "  <matplotlib.axes._subplots.AxesSubplot object at 0x7fc32821ae10>]\n",
      " [<matplotlib.axes._subplots.AxesSubplot object at 0x7fc329f2e588>\n",
      "  <matplotlib.axes._subplots.AxesSubplot object at 0x7fc329f01b00>\n",
      "  <matplotlib.axes._subplots.AxesSubplot object at 0x7fc32265f0b8>\n",
      "  <matplotlib.axes._subplots.AxesSubplot object at 0x7fc322657630>\n",
      "  <matplotlib.axes._subplots.AxesSubplot object at 0x7fc32a003320>\n",
      "  <matplotlib.axes._subplots.AxesSubplot object at 0x7fc32a01c160>\n",
      "  <matplotlib.axes._subplots.AxesSubplot object at 0x7fc329f926d8>\n",
      "  <matplotlib.axes._subplots.AxesSubplot object at 0x7fc32a04ec50>\n",
      "  <matplotlib.axes._subplots.AxesSubplot object at 0x7fc32a0f6128>\n",
      "  <matplotlib.axes._subplots.AxesSubplot object at 0x7fc32a0cd780>]]\n"
     ]
    },
    {
     "data": {
      "image/png": "[encoded data removed]",
      "text/plain": [
       "<Figure size 1440x288 with 20 Axes>"
      ]
     },
     "metadata": {
      "needs_background": "light"
     },
     "output_type": "display_data"
    }
   ],
   "source": [
    "f, a=plt.subplots(2, 10, figsize=(20,4))\n",
    "print(f)\n",
    "print(a)\n",
    "num_test_images=10\n",
    "for i in range(num_test_images):\n",
    "    a[0][i].imshow(np.reshape(mnist.test.images[i], (28,28))  )\n",
    "    a[1][i].imshow(np.reshape(results[i], (28,28))  )\n",
    "    "
   ]
  }
 ],
 "metadata": {
  "kernelspec": {
   "display_name": "Python 3",
   "language": "python",
   "name": "python3"
  },
  "language_info": {
   "codemirror_mode": {
    "name": "ipython",
    "version": 3
   },
   "file_extension": ".py",
   "mimetype": "text/x-python",
   "name": "python",
   "nbconvert_exporter": "python",
   "pygments_lexer": "ipython3",
   "version": "3.5.2"
  }
 },
 "nbformat": 4,
 "nbformat_minor": 2
}
