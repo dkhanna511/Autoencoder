{
 "cells": [
  {
   "cell_type": "code",
   "execution_count": 14,
   "metadata": {},
   "outputs": [],
   "source": [
    "import tensorflow as tf\n",
    "import numpy as np\n",
    "import matplotlib.pyplot as plt\n",
    "import math\n",
    "%matplotlib inline"
   ]
  },
  {
   "cell_type": "code",
   "execution_count": 15,
   "metadata": {},
   "outputs": [],
   "source": [
    "from tensorflow.examples.tutorials.mnist import input_data\n"
   ]
  },
  {
   "cell_type": "code",
   "execution_count": 16,
   "metadata": {},
   "outputs": [
    {
     "name": "stdout",
     "output_type": "stream",
     "text": [
      "Extracting MNIST_data/train-images-idx3-ubyte.gz\n",
      "Extracting MNIST_data/train-labels-idx1-ubyte.gz\n",
      "Extracting MNIST_data/t10k-images-idx3-ubyte.gz\n",
      "Extracting MNIST_data/t10k-labels-idx1-ubyte.gz\n"
     ]
    }
   ],
   "source": [
    "mnist=input_data.read_data_sets(\"MNIST_data/\")\n",
    "trX, trY, teX, teY= mnist.train.images, mnist.train.labels, mnist.test.images, mnist.test.labels"
   ]
  },
  {
   "cell_type": "code",
   "execution_count": 17,
   "metadata": {},
   "outputs": [],
   "source": [
    "class DenoisingAutoEncoder(object):\n",
    "    def __init__(self, m, n, eta=0.01):\n",
    "        #m : number of neuons in input/output layer\n",
    "        # n : number of neurons in hidden layer\n",
    "        \n",
    "        self._m= m\n",
    "        self._n= n\n",
    "        self.learning_rate=eta\n",
    "        \n",
    "        #Create a Computational graph\n",
    "        \n",
    "        #weights and biases\n",
    "        self._w1=tf.Variable(tf.random_normal(shape=(self._m, self._n)))\n",
    "        self._w2=tf.Variable(tf.random.normal(shape=(self._n, self._m)))\n",
    "        \n",
    "        self._b1=tf.Variable(np.zeros(self._n).astype(np.float32))\n",
    "        self._b2=tf.Variable(np.zeros(self._m).astype(np.float32))\n",
    "        \n",
    "        #Placeholder for inputs\n",
    "        \n",
    "        self._X=tf.placeholder(tf.float32, shape=[None, self._m])\n",
    "        \n",
    "        self._X_noisy= tf.placeholder(tf.float32, shape=[None, self._m])\n",
    "\n",
    "        self.y=self.encoder(self._X)\n",
    "        self.r=self.decoder(self.y)\n",
    "        \n",
    "        error=self.r= self._X\n",
    "        \n",
    "        self._loss= tf.reduce_mean(tf.pow(error, 2))\n",
    "        \n",
    "        alpha=0.05\n",
    "        kl_div_loss=tf.reduce_mean(self.kl_div(0.02, tf.reduce_mean(self.y, 0)))\n",
    "        loss=self._loss + alpha*kl_div_loss\n",
    "        \n",
    "        self._opt= tf.train.AdamOptimizer(self.learning_rate).minimize(loss)\n",
    "        \n",
    "        \n",
    "    def encoder(self, x):\n",
    "        h=tf.matmul(x, self._w1) + self._b1\n",
    "        return tf.nn.sigmoid(h)\n",
    "    \n",
    "    def decoder(self, x):\n",
    "        h=tf.matmul(x, self._w2) + self._b2\n",
    "        return tf.nn.sigmoid(h)\n",
    "    \n",
    "    def set_session(self, session):\n",
    "        self.session = session\n",
    "        \n",
    "    def reconstruct(self, x):\n",
    "        h= self.encoder(x)\n",
    "        r=self.decoder(h)\n",
    "        return self.session.run(r, feed_dict= {self._X : x})\n",
    "    \n",
    "    def kl_div(self, rho, rho_hat):\n",
    "        term2_num = tf.constant(1.) - rho\n",
    "        term2_den = tf.constant(1.) - rho_hat\n",
    "        \n",
    "        kl= self.logfunc(rho, rho_hat) + self.logfunc(term2_num, term2_den)\n",
    "        return kl\n",
    "    \n",
    "    def logfunc(self, x1, x2):\n",
    "        return tf.multiply(x1, tf.log(tf.div(x1, x2)))\n",
    "    \n",
    "    def corrupt(self, x):\n",
    "        return x*tf.cast(tf.random_uniform(shape=tf.shape(x), minval=0, maxval=2), tf.float32)\n",
    "    \n",
    "    def getWeights(self):\n",
    "        return self.session.run([self._w1, self._w2, self._b1, self._b2])\n",
    "    \n",
    "    def fit(self, X, Xorg, epochs=50, batch_size= 100):\n",
    "        N, D= X.shape\n",
    "        num_batches= N//batch_size\n",
    "        \n",
    "        obj=[]\n",
    "        \n",
    "        for i in range(epochs):\n",
    "            for j in range(num_batches):\n",
    "                batch= X[j*batch_size : (j* batch_size + batch_size)]\n",
    "                batchO= Xorg[j* batch_size : (j *batch_size + batch_size)]\n",
    "                \n",
    "                _, ob= self.session.run([self._opt, self._loss], feed_dict= {self._X:batchO, self._X_noisy: batch})\n",
    "                \n",
    "                if j%100 ==0:\n",
    "                    print('training epoch {0} batch {2} cost {1}'.format(i, ob, j))\n",
    "                    obj.append(ob)\n",
    "        return obj\n",
    "                    "
   ]
  },
  {
   "cell_type": "code",
   "execution_count": 18,
   "metadata": {},
   "outputs": [],
   "source": [
    "def corruption( x, noise_factor = 0.3):   # corruption of the input\n",
    "    noisy_imgs= x+ noise_factor*np.random.randn(*x.shape)\n",
    "    noisy_imgs=np.clip(noisy_imgs, 0. , 1.)\n",
    "    return noisy_imgs"
   ]
  },
  {
   "cell_type": "code",
   "execution_count": 19,
   "metadata": {},
   "outputs": [
    {
     "ename": "KeyboardInterrupt",
     "evalue": "",
     "output_type": "error",
     "traceback": [
      "\u001b[0;31m---------------------------------------------------------------------------\u001b[0m",
      "\u001b[0;31mKeyboardInterrupt\u001b[0m                         Traceback (most recent call last)",
      "\u001b[0;32m<ipython-input-19-5634d4484ed6>\u001b[0m in \u001b[0;36m<module>\u001b[0;34m\u001b[0m\n\u001b[1;32m      1\u001b[0m \u001b[0mn_hidden\u001b[0m\u001b[0;34m=\u001b[0m \u001b[0;36m1000\u001b[0m\u001b[0;34m\u001b[0m\u001b[0m\n\u001b[1;32m      2\u001b[0m \u001b[0mXtrain\u001b[0m\u001b[0;34m=\u001b[0m \u001b[0mtrX\u001b[0m\u001b[0;34m.\u001b[0m\u001b[0mastype\u001b[0m\u001b[0;34m(\u001b[0m\u001b[0mnp\u001b[0m\u001b[0;34m.\u001b[0m\u001b[0mfloat32\u001b[0m\u001b[0;34m)\u001b[0m\u001b[0;34m\u001b[0m\u001b[0m\n\u001b[0;32m----> 3\u001b[0;31m \u001b[0mXtrain_noisy\u001b[0m\u001b[0;34m=\u001b[0m \u001b[0mcorruption\u001b[0m \u001b[0;34m(\u001b[0m\u001b[0mXtrain\u001b[0m\u001b[0;34m)\u001b[0m\u001b[0;34m.\u001b[0m\u001b[0mastype\u001b[0m\u001b[0;34m(\u001b[0m\u001b[0mnp\u001b[0m\u001b[0;34m.\u001b[0m\u001b[0mfloat32\u001b[0m\u001b[0;34m)\u001b[0m\u001b[0;34m\u001b[0m\u001b[0m\n\u001b[0m\u001b[1;32m      4\u001b[0m \u001b[0mXtest\u001b[0m\u001b[0;34m=\u001b[0m \u001b[0mteX\u001b[0m\u001b[0;34m.\u001b[0m\u001b[0mastype\u001b[0m\u001b[0;34m(\u001b[0m\u001b[0mnp\u001b[0m\u001b[0;34m.\u001b[0m\u001b[0mfloat32\u001b[0m\u001b[0;34m)\u001b[0m\u001b[0;34m\u001b[0m\u001b[0m\n\u001b[1;32m      5\u001b[0m \u001b[0;31m# noise= Xtest * np.random.randint(0, 2, Xtest.shape).astype(np.float32)\u001b[0m\u001b[0;34m\u001b[0m\u001b[0;34m\u001b[0m\u001b[0m\n",
      "\u001b[0;32m<ipython-input-18-348ecace21f7>\u001b[0m in \u001b[0;36mcorruption\u001b[0;34m(x, noise_factor)\u001b[0m\n\u001b[1;32m      1\u001b[0m \u001b[0;32mdef\u001b[0m \u001b[0mcorruption\u001b[0m\u001b[0;34m(\u001b[0m \u001b[0mx\u001b[0m\u001b[0;34m,\u001b[0m \u001b[0mnoise_factor\u001b[0m \u001b[0;34m=\u001b[0m \u001b[0;36m0.3\u001b[0m\u001b[0;34m)\u001b[0m\u001b[0;34m:\u001b[0m   \u001b[0;31m# corruption of the input\u001b[0m\u001b[0;34m\u001b[0m\u001b[0m\n\u001b[1;32m      2\u001b[0m     \u001b[0mnoisy_imgs\u001b[0m\u001b[0;34m=\u001b[0m \u001b[0mx\u001b[0m\u001b[0;34m+\u001b[0m \u001b[0mnoise_factor\u001b[0m\u001b[0;34m*\u001b[0m\u001b[0mnp\u001b[0m\u001b[0;34m.\u001b[0m\u001b[0mrandom\u001b[0m\u001b[0;34m.\u001b[0m\u001b[0mrandn\u001b[0m\u001b[0;34m(\u001b[0m\u001b[0;34m*\u001b[0m\u001b[0mx\u001b[0m\u001b[0;34m.\u001b[0m\u001b[0mshape\u001b[0m\u001b[0;34m)\u001b[0m\u001b[0;34m\u001b[0m\u001b[0m\n\u001b[0;32m----> 3\u001b[0;31m     \u001b[0mnoisy_imgs\u001b[0m\u001b[0;34m=\u001b[0m\u001b[0mnp\u001b[0m\u001b[0;34m.\u001b[0m\u001b[0mclip\u001b[0m\u001b[0;34m(\u001b[0m\u001b[0mnoisy_imgs\u001b[0m\u001b[0;34m,\u001b[0m \u001b[0;36m0.\u001b[0m \u001b[0;34m,\u001b[0m \u001b[0;36m1.\u001b[0m\u001b[0;34m)\u001b[0m\u001b[0;34m\u001b[0m\u001b[0m\n\u001b[0m\u001b[1;32m      4\u001b[0m     \u001b[0;32mreturn\u001b[0m \u001b[0mnoisy_imgs\u001b[0m\u001b[0;34m\u001b[0m\u001b[0m\n",
      "\u001b[0;32m~/.local/lib/python3.5/site-packages/numpy/core/fromnumeric.py\u001b[0m in \u001b[0;36mclip\u001b[0;34m(a, a_min, a_max, out)\u001b[0m\n\u001b[1;32m   1956\u001b[0m \u001b[0;34m\u001b[0m\u001b[0m\n\u001b[1;32m   1957\u001b[0m     \"\"\"\n\u001b[0;32m-> 1958\u001b[0;31m     \u001b[0;32mreturn\u001b[0m \u001b[0m_wrapfunc\u001b[0m\u001b[0;34m(\u001b[0m\u001b[0ma\u001b[0m\u001b[0;34m,\u001b[0m \u001b[0;34m'clip'\u001b[0m\u001b[0;34m,\u001b[0m \u001b[0ma_min\u001b[0m\u001b[0;34m,\u001b[0m \u001b[0ma_max\u001b[0m\u001b[0;34m,\u001b[0m \u001b[0mout\u001b[0m\u001b[0;34m=\u001b[0m\u001b[0mout\u001b[0m\u001b[0;34m)\u001b[0m\u001b[0;34m\u001b[0m\u001b[0m\n\u001b[0m\u001b[1;32m   1959\u001b[0m \u001b[0;34m\u001b[0m\u001b[0m\n\u001b[1;32m   1960\u001b[0m \u001b[0;34m\u001b[0m\u001b[0m\n",
      "\u001b[0;32m~/.local/lib/python3.5/site-packages/numpy/core/fromnumeric.py\u001b[0m in \u001b[0;36m_wrapfunc\u001b[0;34m(obj, method, *args, **kwds)\u001b[0m\n\u001b[1;32m     54\u001b[0m \u001b[0;32mdef\u001b[0m \u001b[0m_wrapfunc\u001b[0m\u001b[0;34m(\u001b[0m\u001b[0mobj\u001b[0m\u001b[0;34m,\u001b[0m \u001b[0mmethod\u001b[0m\u001b[0;34m,\u001b[0m \u001b[0;34m*\u001b[0m\u001b[0margs\u001b[0m\u001b[0;34m,\u001b[0m \u001b[0;34m**\u001b[0m\u001b[0mkwds\u001b[0m\u001b[0;34m)\u001b[0m\u001b[0;34m:\u001b[0m\u001b[0;34m\u001b[0m\u001b[0m\n\u001b[1;32m     55\u001b[0m     \u001b[0;32mtry\u001b[0m\u001b[0;34m:\u001b[0m\u001b[0;34m\u001b[0m\u001b[0m\n\u001b[0;32m---> 56\u001b[0;31m         \u001b[0;32mreturn\u001b[0m \u001b[0mgetattr\u001b[0m\u001b[0;34m(\u001b[0m\u001b[0mobj\u001b[0m\u001b[0;34m,\u001b[0m \u001b[0mmethod\u001b[0m\u001b[0;34m)\u001b[0m\u001b[0;34m(\u001b[0m\u001b[0;34m*\u001b[0m\u001b[0margs\u001b[0m\u001b[0;34m,\u001b[0m \u001b[0;34m**\u001b[0m\u001b[0mkwds\u001b[0m\u001b[0;34m)\u001b[0m\u001b[0;34m\u001b[0m\u001b[0m\n\u001b[0m\u001b[1;32m     57\u001b[0m \u001b[0;34m\u001b[0m\u001b[0m\n\u001b[1;32m     58\u001b[0m     \u001b[0;31m# An AttributeError occurs if the object does not have\u001b[0m\u001b[0;34m\u001b[0m\u001b[0;34m\u001b[0m\u001b[0m\n",
      "\u001b[0;31mKeyboardInterrupt\u001b[0m: "
     ]
    }
   ],
   "source": [
    "n_hidden= 1000\n",
    "Xtrain= trX.astype(np.float32)\n",
    "Xtrain_noisy= corruption (Xtrain).astype(np.float32)\n",
    "Xtest= teX.astype(np.float32)\n",
    "# noise= Xtest * np.random.randint(0, 2, Xtest.shape).astype(np.float32)\n",
    "Xtest_noisy= corruption(Xtest).astype(np.float32)\n",
    "\n",
    "_, m= Xtrain.shape\n",
    "\n",
    "dae= DenoisingAutoEncoder( m, n_hidden)\n",
    "\n",
    "#Initialise all variables\n",
    "init= tf.global_variables_initializer()\n",
    "with tf.Session() as sess:\n",
    "    sess.run(init)\n",
    "    dae.set_session(sess)\n",
    "    err= dae.fit(Xtrain_noisy, Xtrain, epochs=50)\n",
    "    out= dae.reconstruct(Xtest_noisy[0:100])\n",
    "    #w1, w2, b1, b2 = dae.getWeights()\n",
    "    #red= dae.reduced_dimension(Xtrain)\n",
    "                "
   ]
  },
  {
   "cell_type": "code",
   "execution_count": null,
   "metadata": {},
   "outputs": [],
   "source": [
    "import matplotlib.pyplot as plt\n",
    "plt.plot(err)\n",
    "plt.xlabel('epochs')\n",
    "plt.ylabel('reconstruction Loss (MSE)')\n"
   ]
  },
  {
   "cell_type": "code",
   "execution_count": null,
   "metadata": {},
   "outputs": [],
   "source": [
    "#plotting original and reconstructed image\n",
    "row, col= 2,8\n",
    "idx= np.random.randint(0, 100, row*col//2)\n",
    "f, axarr= plt.subplots(row, col, sharex= True, sharey= True, figsize= (20, 4))\n",
    "for fig, row in zip([Xtest_noisy, out], axarr):\n",
    "    for i, ax in zip(idx, row):\n",
    "        ax.imshow(fig[i].reshape((28, 28)))\n",
    "        ax.get_xaxis().set_visible(False)\n",
    "        ax.get_yaxis().set_visible(False)"
   ]
  },
  {
   "cell_type": "code",
   "execution_count": null,
   "metadata": {},
   "outputs": [],
   "source": []
  }
 ],
 "metadata": {
  "kernelspec": {
   "display_name": "Python 3",
   "language": "python",
   "name": "python3"
  },
  "language_info": {
   "codemirror_mode": {
    "name": "ipython",
    "version": 3
   },
   "file_extension": ".py",
   "mimetype": "text/x-python",
   "name": "python",
   "nbconvert_exporter": "python",
   "pygments_lexer": "ipython3",
   "version": "3.5.2"
  }
 },
 "nbformat": 4,
 "nbformat_minor": 2
}
